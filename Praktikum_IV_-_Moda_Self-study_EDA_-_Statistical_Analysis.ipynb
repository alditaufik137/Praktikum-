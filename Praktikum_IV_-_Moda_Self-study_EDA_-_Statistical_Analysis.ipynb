{
 "cells": [
  {
   "cell_type": "markdown",
   "metadata": {},
   "source": [
    "### Overview Dataset\n",
    "\n",
    "\"Data Komponen Beton\".\n",
    "\n",
    "Data set ini berisikan beberapa kategori sebagai berikut\n",
    "* cement (kg)\n",
    "* slag (blast furnace slag, kg)\n",
    "* ash (fly ash, kg)\n",
    "* water (kg)\n",
    "* superplastic (superplasticizer, kg)\n",
    "* coarseagg (coarse aggregate, kg)\n",
    "* fineagg (fine aggregate, kg)\n",
    "* age (days, 1-365)\n",
    "* strength (Concrete compressive strength, MPa)"
   ]
  },
  {
   "cell_type": "markdown",
   "metadata": {},
   "source": [
    "# Exploratory Data Analysis (EDA)\n"
   ]
  },
  {
   "cell_type": "markdown",
   "metadata": {},
   "source": [
    "# Instruksi Tugas Praktikum FIKTI dan FTI\n",
    "\n",
    "1. Buat univariate dan bivariate analysis untuk data set di atas\n",
    "2. Jelaskan kesimpulan yang bisa di ambil dari analysis yg anda lakukan\n"
   ]
  },
  {
   "cell_type": "markdown",
   "metadata": {},
   "source": [
    "<a id=\"1\"></a>\n",
    "\n",
    "# 1. Pengambilan Data:"
   ]
  },
  {
   "cell_type": "markdown",
   "metadata": {},
   "source": [
    "## 1.1 Import packages"
   ]
  },
  {
   "cell_type": "code",
   "execution_count": 1,
   "metadata": {},
   "outputs": [],
   "source": [
    "import numpy as np \n",
    "import pandas as pd \n",
    "import seaborn as sns\n",
    "import matplotlib.pyplot as plt\n",
    "%matplotlib inline\n",
    "import warnings\n",
    "warnings.filterwarnings(\"ignore\")\n",
    "from scipy.stats import ttest_ind, ttest_rel\n",
    "from scipy import stats\n",
    "import random"
   ]
  },
  {
   "cell_type": "markdown",
   "metadata": {},
   "source": [
    "## 1.2 Import data"
   ]
  },
  {
   "cell_type": "code",
   "execution_count": 2,
   "metadata": {},
   "outputs": [
    {
     "data": {
      "text/html": [
       "<div>\n",
       "<style scoped>\n",
       "    .dataframe tbody tr th:only-of-type {\n",
       "        vertical-align: middle;\n",
       "    }\n",
       "\n",
       "    .dataframe tbody tr th {\n",
       "        vertical-align: top;\n",
       "    }\n",
       "\n",
       "    .dataframe thead th {\n",
       "        text-align: right;\n",
       "    }\n",
       "</style>\n",
       "<table border=\"1\" class=\"dataframe\">\n",
       "  <thead>\n",
       "    <tr style=\"text-align: right;\">\n",
       "      <th></th>\n",
       "      <th>cement</th>\n",
       "      <th>slag</th>\n",
       "      <th>ash</th>\n",
       "      <th>water</th>\n",
       "      <th>superplastic</th>\n",
       "      <th>coarseagg</th>\n",
       "      <th>fineagg</th>\n",
       "      <th>age</th>\n",
       "      <th>strength</th>\n",
       "    </tr>\n",
       "  </thead>\n",
       "  <tbody>\n",
       "    <tr>\n",
       "      <th>0</th>\n",
       "      <td>141.3</td>\n",
       "      <td>212.0</td>\n",
       "      <td>0.0</td>\n",
       "      <td>203.5</td>\n",
       "      <td>0.0</td>\n",
       "      <td>971.8</td>\n",
       "      <td>748.5</td>\n",
       "      <td>28</td>\n",
       "      <td>29.89</td>\n",
       "    </tr>\n",
       "    <tr>\n",
       "      <th>1</th>\n",
       "      <td>168.9</td>\n",
       "      <td>42.2</td>\n",
       "      <td>124.3</td>\n",
       "      <td>158.3</td>\n",
       "      <td>10.8</td>\n",
       "      <td>1080.8</td>\n",
       "      <td>796.2</td>\n",
       "      <td>14</td>\n",
       "      <td>23.51</td>\n",
       "    </tr>\n",
       "    <tr>\n",
       "      <th>2</th>\n",
       "      <td>250.0</td>\n",
       "      <td>0.0</td>\n",
       "      <td>95.7</td>\n",
       "      <td>187.4</td>\n",
       "      <td>5.5</td>\n",
       "      <td>956.9</td>\n",
       "      <td>861.2</td>\n",
       "      <td>28</td>\n",
       "      <td>29.22</td>\n",
       "    </tr>\n",
       "    <tr>\n",
       "      <th>3</th>\n",
       "      <td>266.0</td>\n",
       "      <td>114.0</td>\n",
       "      <td>0.0</td>\n",
       "      <td>228.0</td>\n",
       "      <td>0.0</td>\n",
       "      <td>932.0</td>\n",
       "      <td>670.0</td>\n",
       "      <td>28</td>\n",
       "      <td>45.85</td>\n",
       "    </tr>\n",
       "    <tr>\n",
       "      <th>4</th>\n",
       "      <td>154.8</td>\n",
       "      <td>183.4</td>\n",
       "      <td>0.0</td>\n",
       "      <td>193.3</td>\n",
       "      <td>9.1</td>\n",
       "      <td>1047.4</td>\n",
       "      <td>696.7</td>\n",
       "      <td>28</td>\n",
       "      <td>18.29</td>\n",
       "    </tr>\n",
       "    <tr>\n",
       "      <th>5</th>\n",
       "      <td>255.0</td>\n",
       "      <td>0.0</td>\n",
       "      <td>0.0</td>\n",
       "      <td>192.0</td>\n",
       "      <td>0.0</td>\n",
       "      <td>889.8</td>\n",
       "      <td>945.0</td>\n",
       "      <td>90</td>\n",
       "      <td>21.86</td>\n",
       "    </tr>\n",
       "    <tr>\n",
       "      <th>6</th>\n",
       "      <td>166.8</td>\n",
       "      <td>250.2</td>\n",
       "      <td>0.0</td>\n",
       "      <td>203.5</td>\n",
       "      <td>0.0</td>\n",
       "      <td>975.6</td>\n",
       "      <td>692.6</td>\n",
       "      <td>7</td>\n",
       "      <td>15.75</td>\n",
       "    </tr>\n",
       "    <tr>\n",
       "      <th>7</th>\n",
       "      <td>251.4</td>\n",
       "      <td>0.0</td>\n",
       "      <td>118.3</td>\n",
       "      <td>188.5</td>\n",
       "      <td>6.4</td>\n",
       "      <td>1028.4</td>\n",
       "      <td>757.7</td>\n",
       "      <td>56</td>\n",
       "      <td>36.64</td>\n",
       "    </tr>\n",
       "    <tr>\n",
       "      <th>8</th>\n",
       "      <td>296.0</td>\n",
       "      <td>0.0</td>\n",
       "      <td>0.0</td>\n",
       "      <td>192.0</td>\n",
       "      <td>0.0</td>\n",
       "      <td>1085.0</td>\n",
       "      <td>765.0</td>\n",
       "      <td>28</td>\n",
       "      <td>21.65</td>\n",
       "    </tr>\n",
       "    <tr>\n",
       "      <th>9</th>\n",
       "      <td>155.0</td>\n",
       "      <td>184.0</td>\n",
       "      <td>143.0</td>\n",
       "      <td>194.0</td>\n",
       "      <td>9.0</td>\n",
       "      <td>880.0</td>\n",
       "      <td>699.0</td>\n",
       "      <td>28</td>\n",
       "      <td>28.99</td>\n",
       "    </tr>\n",
       "  </tbody>\n",
       "</table>\n",
       "</div>"
      ],
      "text/plain": [
       "   cement   slag    ash  water  superplastic  coarseagg  fineagg  age  \\\n",
       "0   141.3  212.0    0.0  203.5           0.0      971.8    748.5   28   \n",
       "1   168.9   42.2  124.3  158.3          10.8     1080.8    796.2   14   \n",
       "2   250.0    0.0   95.7  187.4           5.5      956.9    861.2   28   \n",
       "3   266.0  114.0    0.0  228.0           0.0      932.0    670.0   28   \n",
       "4   154.8  183.4    0.0  193.3           9.1     1047.4    696.7   28   \n",
       "5   255.0    0.0    0.0  192.0           0.0      889.8    945.0   90   \n",
       "6   166.8  250.2    0.0  203.5           0.0      975.6    692.6    7   \n",
       "7   251.4    0.0  118.3  188.5           6.4     1028.4    757.7   56   \n",
       "8   296.0    0.0    0.0  192.0           0.0     1085.0    765.0   28   \n",
       "9   155.0  184.0  143.0  194.0           9.0      880.0    699.0   28   \n",
       "\n",
       "   strength  \n",
       "0     29.89  \n",
       "1     23.51  \n",
       "2     29.22  \n",
       "3     45.85  \n",
       "4     18.29  \n",
       "5     21.86  \n",
       "6     15.75  \n",
       "7     36.64  \n",
       "8     21.65  \n",
       "9     28.99  "
      ]
     },
     "execution_count": 2,
     "metadata": {},
     "output_type": "execute_result"
    }
   ],
   "source": [
    "data = pd.read_csv(\"https://raw.githubusercontent.com/supasonicx/ATA-praktikum-01/main/concrete.csv\")\n",
    "data.head(10)"
   ]
  },
  {
   "cell_type": "markdown",
   "metadata": {},
   "source": [
    "# 2. EDA"
   ]
  },
  {
   "cell_type": "markdown",
   "metadata": {},
   "source": [
    "## 2.1.Univariate analysis\n",
    "<a id=\"2\"></a>"
   ]
  },
  {
   "cell_type": "markdown",
   "metadata": {},
   "source": [
    "## 2.1.1 Cement"
   ]
  },
  {
   "cell_type": "markdown",
   "metadata": {},
   "source": [
    "### **i.\tDistribusi**"
   ]
  },
  {
   "cell_type": "code",
   "execution_count": 3,
   "metadata": {
    "scrolled": false
   },
   "outputs": [
    {
     "data": {
      "image/png": "[encoded data removed]",
      "text/plain": [
       "<Figure size 576x576 with 1 Axes>"
      ]
     },
     "metadata": {
      "needs_background": "light"
     },
     "output_type": "display_data"
    }
   ],
   "source": [
    "data['cement'].hist(figsize=(8,8))\n",
    "plt.show()"
   ]
  },
  {
   "cell_type": "code",
   "execution_count": 4,
   "metadata": {},
   "outputs": [
    {
     "data": {
      "text/plain": [
       "(1030, 9)"
      ]
     },
     "execution_count": 4,
     "metadata": {},
     "output_type": "execute_result"
    }
   ],
   "source": [
    "data[data[\"cement\"]>70].shape"
   ]
  },
  {
   "cell_type": "markdown",
   "metadata": {},
   "source": [
    "### **ii.\tDeskripsi**"
   ]
  },
  {
   "cell_type": "markdown",
   "metadata": {},
   "source": [
    "Histogram di atas menjelaskan bahwa :\n",
    "*  atribut \"cement\" tidak simetris.\n",
    "*  pada histogram 100-160 mengalami kenaikan signifikan\n",
    "*  cement minimum dan maksimum adalah 101 kg dan 540 kg.\n",
    "*  Dataset ini memiliki pengamatan (1030) tentang cement tertentu, yaitu 540 kg."
   ]
  },
  {
   "cell_type": "markdown",
   "metadata": {},
   "source": [
    "## 2.1.2 Water"
   ]
  },
  {
   "cell_type": "markdown",
   "metadata": {},
   "source": [
    "### **i.\tDistribusi**"
   ]
  },
  {
   "cell_type": "code",
   "execution_count": 5,
   "metadata": {},
   "outputs": [
    {
     "data": {
      "image/png": "[encoded data removed]",
      "text/plain": [
       "<Figure size 576x576 with 1 Axes>"
      ]
     },
     "metadata": {
      "needs_background": "light"
     },
     "output_type": "display_data"
    }
   ],
   "source": [
    "data['water'].hist(figsize=(8,8))\n",
    "plt.show()"
   ]
  },
  {
   "cell_type": "code",
   "execution_count": 6,
   "metadata": {},
   "outputs": [
    {
     "data": {
      "text/plain": [
       "(1030, 9)"
      ]
     },
     "execution_count": 6,
     "metadata": {},
     "output_type": "execute_result"
    }
   ],
   "source": [
    "data[data[\"water\"]>70].shape"
   ]
  },
  {
   "cell_type": "markdown",
   "metadata": {},
   "source": [
    "### **ii. Deskripsi**"
   ]
  },
  {
   "cell_type": "markdown",
   "metadata": {},
   "source": [
    "Histogram di atas menjelaskan bahwa :\n",
    "*  atribut \"water\" hampir simetris.\n",
    "*  pada histogram 180-190 mengalami kenaikan signifikan.\n",
    "*  water minimum dan maksimum adalah 122 Kg dan 250 Kg.\n",
    "*  Dataset ini memiliki pengamatan (1030) tentang water tertentu, yaitu 250 Kg."
   ]
  },
  {
   "cell_type": "markdown",
   "metadata": {},
   "source": [
    "<a id=\"3\"></a>\n",
    "# 2.2.Bivariate analysis"
   ]
  },
  {
   "cell_type": "markdown",
   "metadata": {},
   "source": [
    "## 2.2.1 Cement - Water (Hubungan)"
   ]
  },
  {
   "cell_type": "markdown",
   "metadata": {},
   "source": [
    "### i. **Boxplot**"
   ]
  },
  {
   "cell_type": "code",
   "execution_count": 7,
   "metadata": {},
   "outputs": [
    {
     "data": {
      "image/png": "[encoded data removed]",
      "text/plain": [
       "<Figure size 720x720 with 1 Axes>"
      ]
     },
     "metadata": {
      "needs_background": "light"
     },
     "output_type": "display_data"
    }
   ],
   "source": [
    "fig = plt.figure(figsize=(10,10)) \n",
    "sns.boxplot(x=\"cement\", y=\"water\", data=data)\n",
    "plt.show()"
   ]
  },
  {
   "cell_type": "code",
   "execution_count": 8,
   "metadata": {},
   "outputs": [
    {
     "name": "stdout",
     "output_type": "stream",
     "text": [
      "describe cement:  count    1030.000000\n",
      "mean      281.167864\n",
      "std       104.506364\n",
      "min       102.000000\n",
      "25%       192.375000\n",
      "50%       272.900000\n",
      "75%       350.000000\n",
      "max       540.000000\n",
      "Name: cement, dtype: float64\n"
     ]
    }
   ],
   "source": [
    "print(\"describe cement: \",data.cement.describe())"
   ]
  },
  {
   "cell_type": "code",
   "execution_count": 9,
   "metadata": {},
   "outputs": [
    {
     "name": "stdout",
     "output_type": "stream",
     "text": [
      "describe water:  count    1030.000000\n",
      "mean      181.567282\n",
      "std        21.354219\n",
      "min       121.800000\n",
      "25%       164.900000\n",
      "50%       185.000000\n",
      "75%       192.000000\n",
      "max       247.000000\n",
      "Name: water, dtype: float64\n"
     ]
    }
   ],
   "source": [
    "print(\"describe water: \",data.water.describe())"
   ]
  },
  {
   "cell_type": "markdown",
   "metadata": {},
   "source": [
    "### ii. Deskripsi"
   ]
  },
  {
   "cell_type": "markdown",
   "metadata": {},
   "source": [
    "*  rerata nilai cement pada beton adalah 281.167 Kg dengan water 181.567 Kg\n",
    "*  nilai minimal cement pada beton adalah 102 Kg dengan water 121.8 Kg\n",
    "*  nilai cement pada beton pada 25% adalah 192.375 Kg dengan water 164.9 Kg\n",
    "*  nilai cement pada beton pada 50% adalah 272.9 Kg dengan water 185 Kg\n",
    "*  nilai cement pada beton pada 75% adalah 350 Kg dengan water 192 Kg\n",
    "*  nilai maksimal cement pada beton adalah 540 Kg dengan water 247 Kg"
   ]
  },
  {
   "cell_type": "markdown",
   "metadata": {},
   "source": [
    "### iii. Uji Hipotesis\n",
    "**Two sampled T-test** :-Uji Independent Samples t Test atau 2-sample t-test membandingkan rata-rata dua kelompok independen untuk menentukan apakah ada bukti statistik bahwa rata-rata populasi terkait berbeda secara signifikan.\n"
   ]
  },
  {
   "cell_type": "code",
   "execution_count": 10,
   "metadata": {},
   "outputs": [
    {
     "name": "stdout",
     "output_type": "stream",
     "text": [
      "ttest 29.967843157851238\n",
      "p value 3.267715932044859e-145\n",
      "null hypothesis ditolak\n"
     ]
    }
   ],
   "source": [
    "ttest,pval = ttest_ind(data.cement,data.water,equal_var = False)\n",
    "print(\"ttest\",ttest)\n",
    "print('p value',pval)\n",
    "\n",
    "\n",
    "if pval <0.05:\n",
    "    print(\"null hypothesis ditolak\")\n",
    "else:\n",
    "    print(\"null hypothesis diterima\")"
   ]
  },
  {
   "cell_type": "markdown",
   "metadata": {},
   "source": [
    "### iv. Kesimpulan akhir"
   ]
  },
  {
   "cell_type": "markdown",
   "metadata": {},
   "source": [
    "*  Semakin tinggi perbandingan campuran air dan bahan material semen maka konstruksi beton malah semakin jelek. Untuk meningkatkan mutu konstruksi beton rumah harus mengurangi perbandingan air dan bahan material semen.\n",
    "\n",
    "*  Faktor air dan bahan material semen adalah perbandingan antara berat air dibandingkan dengan berat bahan material semen. "
   ]
  }
 ],
 "metadata": {
  "interpreter": {
   "hash": "3ccfcd014fed9e161466e766ba90f1a98c4469c01d0ceded9e6ae8825658ca32"
  },
  "kernelspec": {
   "display_name": "Python 3 (ipykernel)",
   "language": "python",
   "name": "python3"
  },
  "language_info": {
   "codemirror_mode": {
    "name": "ipython",
    "version": 3
   },
   "file_extension": ".py",
   "mimetype": "text/x-python",
   "name": "python",
   "nbconvert_exporter": "python",
   "pygments_lexer": "ipython3",
   "version": "3.8.8"
  }
 },
 "nbformat": 4,
 "nbformat_minor": 4
}
